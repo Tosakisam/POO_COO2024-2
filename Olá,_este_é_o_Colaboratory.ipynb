{
  "cells": [
    {
      "cell_type": "markdown",
      "metadata": {
        "id": "view-in-github",
        "colab_type": "text"
      },
      "source": [
        "<a href=\"https://colab.research.google.com/github/Tosakisam/POO_COO2024-2/blob/main/Ol%C3%A1%2C_este_%C3%A9_o_Colaboratory.ipynb\" target=\"_parent\"><img src=\"https://colab.research.google.com/assets/colab-badge.svg\" alt=\"Open In Colab\"/></a>"
      ]
    },
    {
      "cell_type": "code",
      "source": [
        "f = float(input(\"digite valor em graus farenheit:\"))\n",
        "c = (5/9)*(f-32)\n",
        "print(f\"o valor de {f}°f corresponde corresponde ao valor de {c}°c\")\n"
      ],
      "metadata": {
        "colab": {
          "base_uri": "https://localhost:8080/"
        },
        "id": "0H8qWcwbg5Mq",
        "outputId": "b9f65107-ef4f-4e34-e12e-8b7b1a434895"
      },
      "execution_count": null,
      "outputs": [
        {
          "output_type": "stream",
          "name": "stdout",
          "text": [
            "digite valor em graus farenheit:1\n",
            "o valor de 1.0°f corresponde corresponde ao valor de -17.22222222222222°c\n"
          ]
        }
      ]
    },
    {
      "cell_type": "markdown",
      "source": [
        "#EX2) Converter polegadas para m\n",
        "Entrada= p\n",
        "Processamento= MM = P*25.4\n",
        "Saida mm"
      ],
      "metadata": {
        "id": "ofSiQZybjqbK"
      }
    },
    {
      "cell_type": "code",
      "source": [
        "p = float(input(\"digite valor em polegadas:\"))\n",
        "mm = p*25.4\n",
        "print(f\"o valor de {p} polegadas corresponde ao valor de {mm} mm\")\n"
      ],
      "metadata": {
        "colab": {
          "base_uri": "https://localhost:8080/"
        },
        "id": "6BuXGYblkMzH",
        "outputId": "0e5c6155-8b6e-49e2-ba82-f686811ded7f"
      },
      "execution_count": null,
      "outputs": [
        {
          "output_type": "stream",
          "name": "stdout",
          "text": [
            "digite valor em polegadas:45\n",
            "o valor de 45.0 polegadas corresponde ao valor de 1143.0 mm\n"
          ]
        }
      ]
    },
    {
      "cell_type": "markdown",
      "source": [
        "#EX3) CALCULAR IDADE"
      ],
      "metadata": {
        "id": "mmZwGlVLlsRc"
      }
    },
    {
      "cell_type": "code",
      "source": [
        "idade = int(input(\"Digite sua idade\"))\n",
        "\n",
        "#Verifique se a idade é maior ou igual a 16 anos e menor que 70 anos.\n",
        "\n",
        "if 16<=idade<70:\n",
        "    print(\"Você pode votar\")\n",
        "else:\n",
        "    print(\"Você não pode votar\")\n"
      ],
      "metadata": {
        "colab": {
          "base_uri": "https://localhost:8080/"
        },
        "id": "c-9-u-J4mkXX",
        "outputId": "797b3ecc-16f6-49ed-da9e-7a7d486d5060"
      },
      "execution_count": null,
      "outputs": [
        {
          "output_type": "stream",
          "name": "stdout",
          "text": [
            "Digite sua idade67\n",
            "Você pode votar\n"
          ]
        }
      ]
    },
    {
      "cell_type": "markdown",
      "source": [
        "#EX5) (exercicio em casa)CALCULAR UM RAIO DE UMA ESFERA"
      ],
      "metadata": {
        "id": "0zrzKkpAoXMM"
      }
    },
    {
      "cell_type": "code",
      "source": [
        "r= float(input(\"digite o raio da esfera \"))\n",
        "v= (4/3.0)*3.14*(r**3)\n",
        "print(f\"o volume da esfera é {v}\")\n",
        "#"
      ],
      "metadata": {
        "colab": {
          "base_uri": "https://localhost:8080/"
        },
        "id": "1djiZ_aIoi8p",
        "outputId": "92afd5aa-df52-45e9-80f0-7d985f075725"
      },
      "execution_count": null,
      "outputs": [
        {
          "output_type": "stream",
          "name": "stdout",
          "text": [
            "digite o raio da esfera39\n",
            "o volume da esfera é 248348.88\n"
          ]
        }
      ]
    },
    {
      "cell_type": "markdown",
      "source": [
        "#ex6"
      ],
      "metadata": {
        "id": "8l_pbZRlqn_R"
      }
    }
  ],
  "metadata": {
    "colab": {
      "name": "Olá, este é o Colaboratory",
      "toc_visible": true,
      "provenance": [],
      "include_colab_link": true
    },
    "kernelspec": {
      "display_name": "Python 3",
      "name": "python3"
    }
  },
  "nbformat": 4,
  "nbformat_minor": 0
}