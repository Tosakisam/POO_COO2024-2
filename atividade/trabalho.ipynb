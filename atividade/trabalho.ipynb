{
  "cells": [
    {
      "cell_type": "markdown",
      "metadata": {
        "id": "view-in-github",
        "colab_type": "text"
      },
      "source": [
        "<a href=\"https://colab.research.google.com/github/Tosakisam/POO_COO2024-2/blob/main/atividade/trabalho.ipynb\" target=\"_parent\"><img src=\"https://colab.research.google.com/assets/colab-badge.svg\" alt=\"Open In Colab\"/></a>"
      ]
    },
    {
      "cell_type": "code",
      "source": [
        "f = float(input(\"digite valor em graus farenheit:\"))\n",
        "c = (5/9)*(f-32)\n",
        "print(f\"o valor de {f}°f corresponde corresponde ao valor de {c}°c\")\n"
      ],
      "metadata": {
        "colab": {
          "base_uri": "https://localhost:8080/"
        },
        "id": "0H8qWcwbg5Mq",
        "outputId": "b9f65107-ef4f-4e34-e12e-8b7b1a434895"
      },
      "execution_count": null,
      "outputs": [
        {
          "output_type": "stream",
          "name": "stdout",
          "text": [
            "digite valor em graus farenheit:1\n",
            "o valor de 1.0°f corresponde corresponde ao valor de -17.22222222222222°c\n"
          ]
        }
      ]
    },
    {
      "cell_type": "markdown",
      "source": [
        "#EX2) Converter polegadas para m\n",
        "Entrada= p\n",
        "Processamento= MM = P*25.4\n",
        "Saida mm"
      ],
      "metadata": {
        "id": "ofSiQZybjqbK"
      }
    },
    {
      "cell_type": "code",
      "source": [
        "p = float(input(\"digite valor em polegadas:\"))\n",
        "mm = p*25.4\n",
        "print(f\"o valor de {p} polegadas corresponde ao valor de {mm} mm\")\n"
      ],
      "metadata": {
        "colab": {
          "base_uri": "https://localhost:8080/"
        },
        "id": "6BuXGYblkMzH",
        "outputId": "0e5c6155-8b6e-49e2-ba82-f686811ded7f"
      },
      "execution_count": null,
      "outputs": [
        {
          "output_type": "stream",
          "name": "stdout",
          "text": [
            "digite valor em polegadas:45\n",
            "o valor de 45.0 polegadas corresponde ao valor de 1143.0 mm\n"
          ]
        }
      ]
    },
    {
      "cell_type": "markdown",
      "source": [
        "#EX3) CALCULAR IDADE"
      ],
      "metadata": {
        "id": "mmZwGlVLlsRc"
      }
    },
    {
      "cell_type": "code",
      "source": [
        "idade = int(input(\"Digite sua idade\"))\n",
        "\n",
        "#Verifique se a idade é maior ou igual a 16 anos e menor que 70 anos.\n",
        "\n",
        "if 16<=idade<70:\n",
        "    print(\"Você pode votar\")\n",
        "else:\n",
        "    print(\"Você não pode votar\")\n"
      ],
      "metadata": {
        "colab": {
          "base_uri": "https://localhost:8080/"
        },
        "id": "c-9-u-J4mkXX",
        "outputId": "797b3ecc-16f6-49ed-da9e-7a7d486d5060"
      },
      "execution_count": null,
      "outputs": [
        {
          "output_type": "stream",
          "name": "stdout",
          "text": [
            "Digite sua idade67\n",
            "Você pode votar\n"
          ]
        }
      ]
    },
    {
      "cell_type": "markdown",
      "source": [
        "#EX5) (exercicio em casa)CALCULAR UM RAIO DE UMA ESFERA"
      ],
      "metadata": {
        "id": "0zrzKkpAoXMM"
      }
    },
    {
      "cell_type": "code",
      "source": [
        "r= float(input(\"digite o raio da esfera \"))\n",
        "v= (4/3.0)*3.14*(r**3)\n",
        "print(f\"o volume da esfera é {v}\")\n",
        "#"
      ],
      "metadata": {
        "colab": {
          "base_uri": "https://localhost:8080/"
        },
        "id": "1djiZ_aIoi8p",
        "outputId": "92afd5aa-df52-45e9-80f0-7d985f075725"
      },
      "execution_count": null,
      "outputs": [
        {
          "output_type": "stream",
          "name": "stdout",
          "text": [
            "digite o raio da esfera39\n",
            "o volume da esfera é 248348.88\n"
          ]
        }
      ]
    },
    {
      "cell_type": "markdown",
      "source": [
        "#ex6 (EX CASA) PROGRAMA QUE RECEBA CODIGO EM âNGULO EM GRAU E CONVERTA EM VALOR PARA RADIANOS\n"
      ],
      "metadata": {
        "id": "8l_pbZRlqn_R"
      }
    },
    {
      "cell_type": "code",
      "source": [
        "import math\n",
        "from math import pi\n",
        "graus = float(input(\"digite o angulo em graus:\"))\n",
        "radianos = graus*(pi/180)\n",
        "print(f\"o angulo de {graus} graus corresponde a {radianos:4f} radianos.\")\n"
      ],
      "metadata": {
        "id": "LbGkV3CltLVD",
        "outputId": "8975dae4-d2c0-454a-9c93-533282fa01f9",
        "colab": {
          "base_uri": "https://localhost:8080/"
        }
      },
      "execution_count": 2,
      "outputs": [
        {
          "output_type": "stream",
          "name": "stdout",
          "text": [
            "digite o angulo em graus:43\n",
            "o angulo de 43.0 graus corresponde a 0.750492 radianos.\n"
          ]
        }
      ]
    },
    {
      "cell_type": "markdown",
      "source": [
        "#EX7 (EM HOME) PROGRAMA QUE RECEBA CODIGO EM âNGULO EM RADIANO E CONVERTA EM VALOR GRAU\n"
      ],
      "metadata": {
        "id": "iyYm-YYbxMuS"
      }
    },
    {
      "cell_type": "code",
      "source": [
        "import math\n",
        "from math import pi\n",
        "radianos = float(input(\"digite o angulo em radianos:\"))\n",
        "graus = radianos*(180/pi)\n",
        "print(f\"o angulo de {radianos:.4f} radianos corresponde a {graus:2f} graus.\")"
      ],
      "metadata": {
        "id": "dWbF3pgPxqKL",
        "outputId": "f63f4c3f-8616-4eac-98b5-86f800b23954",
        "colab": {
          "base_uri": "https://localhost:8080/"
        }
      },
      "execution_count": 9,
      "outputs": [
        {
          "output_type": "stream",
          "name": "stdout",
          "text": [
            "digite o angulo em radianos:4\n",
            "o angulo de 4.0000 radianos corresponde a 229.183118 graus.\n"
          ]
        }
      ]
    },
    {
      "cell_type": "markdown",
      "source": [
        "#ex8) (em casa) PROGRAMA QUE RECEBE âNGULO EM RADIANOS, E CONVERTA EM VALOR PARA GRADOS."
      ],
      "metadata": {
        "id": "7NCRXK8b1OeU"
      }
    },
    {
      "cell_type": "code",
      "source": [
        "import math\n",
        "from math import pi\n",
        "radianos = float (input(\"digite o ângulo em radianos:\"))\n",
        "\n",
        "grados = radianos*(200/pi)\n",
        "print(f\"o ângulo de {radianos:.4f} radianos é igual a {grados:2f} grados.\")"
      ],
      "metadata": {
        "id": "8n-D4Keq1fsi",
        "outputId": "b29c83a3-52bc-408d-fb18-06d5524bd7ac",
        "colab": {
          "base_uri": "https://localhost:8080/"
        }
      },
      "execution_count": 10,
      "outputs": [
        {
          "output_type": "stream",
          "name": "stdout",
          "text": [
            "digite o ângulo em radianos:12\n",
            "o ângulo de 12.0000 radianos é igual a 763.943727 grados.\n"
          ]
        }
      ]
    }
  ],
  "metadata": {
    "colab": {
      "name": "Olá, este é o Colaboratory",
      "toc_visible": true,
      "provenance": [],
      "include_colab_link": true
    },
    "kernelspec": {
      "display_name": "Python 3",
      "name": "python3"
    }
  },
  "nbformat": 4,
  "nbformat_minor": 0
}